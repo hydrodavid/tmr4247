{
 "cells": [
  {
   "cell_type": "markdown",
   "metadata": {},
   "source": [
    "# Wave loads on fixed structures"
   ]
  },
  {
   "cell_type": "markdown",
   "metadata": {},
   "source": [
    "(cover p. 2.1 - 2.23)\n",
    "\n",
    "## Froude-Kriloff forces\n",
    "\n",
    "\n",
    "## Diffraction forces\n",
    "\n",
    "\n",
    "## Large-volume structures, small volume structures.\n",
    "\n",
    "Bølgekrefter. Morison’s ligning."
   ]
  },
  {
   "cell_type": "markdown",
   "metadata": {},
   "source": [
    "## Morison's equation\n",
    "Wave loads on circular cylinders when the wavelenght is much longer that the cylinder diameter, can be estimated with the Morison equation. \n",
    "$$\\mathrm{d}F=\\rho\\frac{\\pi}{4}D^2 C_m a_x \\mathrm{d}z + \\frac{1}{2}\\rho |u|u Cd D \\mathrm{d}z$$\n",
    "The equation was originally derived to fit measured wave forces on a bottom mounted, surface piercing vertical circular cylinder."
   ]
  },
  {
   "cell_type": "code",
   "execution_count": null,
   "metadata": {},
   "outputs": [],
   "source": []
  }
 ],
 "metadata": {
  "kernelspec": {
   "display_name": "Python 3",
   "language": "python",
   "name": "python3"
  },
  "language_info": {
   "codemirror_mode": {
    "name": "ipython",
    "version": 3
   },
   "file_extension": ".py",
   "mimetype": "text/x-python",
   "name": "python",
   "nbconvert_exporter": "python",
   "pygments_lexer": "ipython3",
   "version": "3.7.6"
  }
 },
 "nbformat": 4,
 "nbformat_minor": 4
}
